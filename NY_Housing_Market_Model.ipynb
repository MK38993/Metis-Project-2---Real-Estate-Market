{
 "cells": [
  {
   "cell_type": "code",
   "execution_count": null,
   "id": "5b13f784",
   "metadata": {
    "scrolled": true
   },
   "outputs": [],
   "source": [
    "%run NY_Housing_Market.ipynb"
   ]
  },
  {
   "cell_type": "code",
   "execution_count": null,
   "id": "e3ca58e7",
   "metadata": {},
   "outputs": [],
   "source": [
    "#Sample use of function: \n",
    "#predict_house_price(sqft,bedrooms,bathrooms,lot_size,year_built,'property_type','borough')\n",
    "\n",
    "\n",
    "#Accepted Categorical Variable values:\n",
    "#Property Type: Single Family Home, Multi-Family Home, Condo, Land\n",
    "#Borough: Bronx, Brooklyn, Manhattan, Queens, Staten Island"
   ]
  },
  {
   "cell_type": "code",
   "execution_count": null,
   "id": "6fe31bbc",
   "metadata": {},
   "outputs": [],
   "source": [
    "print(predict_house_price(1120,4,1,940,1920,'Single Family Home','Bronx'))\n",
    "print('\\n')\n",
    "print(predict_house_price(1120,4,1,940,1920,'Single Family Home','Brooklyn'))\n",
    "print('\\n')\n",
    "print(predict_house_price(1120,4,1,940,1920,'Single Family Home','Manhattan'))\n",
    "print('\\n')\n",
    "print(predict_house_price(1120,4,1,940,1920,'Single Family Home','Queens'))\n",
    "print('\\n')\n",
    "print(predict_house_price(1120,4,1,940,1920,'Single Family Home','Staten Island'))"
   ]
  },
  {
   "cell_type": "code",
   "execution_count": null,
   "id": "c20dfd45",
   "metadata": {},
   "outputs": [],
   "source": []
  }
 ],
 "metadata": {
  "kernelspec": {
   "display_name": "Python [conda env:metis] *",
   "language": "python",
   "name": "conda-env-metis-py"
  },
  "language_info": {
   "codemirror_mode": {
    "name": "ipython",
    "version": 3
   },
   "file_extension": ".py",
   "mimetype": "text/x-python",
   "name": "python",
   "nbconvert_exporter": "python",
   "pygments_lexer": "ipython3",
   "version": "3.8.10"
  }
 },
 "nbformat": 4,
 "nbformat_minor": 5
}
